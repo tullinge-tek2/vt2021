{
 "cells": [
  {
   "cell_type": "markdown",
   "id": "authentic-thompson",
   "metadata": {},
   "source": [
    "# Hello Pandas\n",
    "\n",
    "**Pandas** är ett populärt bibliotek för att läsa in och hantera stora datamängder.\n",
    "\n",
    "[10 minutes to pandas](https://pandas.pydata.org/pandas-docs/stable/user_guide/10min.html)\n",
    "(Ni behöver/ska inte göra hela guiden, men försök bekanta er litegrann i alla fall. Kolla de olika rubrikerna och titta på innehållsförteckningen till vänster så ni ser vad mer hjälp som finns att tillgå)\n",
    "\n",
    "Labba i denna fil.\n",
    "\n",
    "Begrepp:\n",
    "- **DataFrame**\n",
    "- **Series**\n",
    "- NumPy array\n",
    "- datetime\n",
    "- column\n",
    "- row\n"
   ]
  },
  {
   "cell_type": "code",
   "execution_count": null,
   "id": "enabling-portfolio",
   "metadata": {},
   "outputs": [],
   "source": []
  }
 ],
 "metadata": {
  "kernelspec": {
   "display_name": "Python 3",
   "language": "python",
   "name": "python3"
  },
  "language_info": {
   "codemirror_mode": {
    "name": "ipython",
    "version": 3
   },
   "file_extension": ".py",
   "mimetype": "text/x-python",
   "name": "python",
   "nbconvert_exporter": "python",
   "pygments_lexer": "ipython3",
   "version": "3.7.3"
  }
 },
 "nbformat": 4,
 "nbformat_minor": 5
}
