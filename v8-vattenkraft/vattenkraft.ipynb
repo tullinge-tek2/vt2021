{
 "cells": [
  {
   "cell_type": "markdown",
   "id": "suspected-sodium",
   "metadata": {},
   "source": [
    "# Vattenkraftverk\n",
    "\n",
    "<img src=\"http://vattenkraft.info/teori/bilder/kraftverk.gif\">\n",
    "\n",
    "Om vattenkraft, enkelt exempel på tavlan. mgh, volymflöde (vattenföring), massflöde.\n",
    "\n",
    "[How much power could I generate from a Hydro turbine?](https://www.renewablesfirst.co.uk/hydropower/hydropower-learning-centre/how-much-power-could-i-generate-from-a-hydro-turbine/)\n",
    "\n",
    "Begrepp:\n",
    "- **generator** vs. **elmotor**\n",
    "- **flöde**\n",
    "- **fallhöjd**\n",
    "- **turbin**\n",
    "- **vattenmagasin**\n",
    "- **AC/DC**\n"
   ]
  },
  {
   "cell_type": "code",
   "execution_count": 1,
   "id": "bridal-ridge",
   "metadata": {},
   "outputs": [],
   "source": [
    "# enkel modell?\n",
    "\n",
    "def hydro_power(volume_flow, height, efficiency = 0.8):\n",
    "    \"\"\"\n",
    "    Calculates the power in watts of a hydro power plant\n",
    "    \n",
    "    volume_flow (m^3/s)\n",
    "    height (m)\n",
    "    efficiency\n",
    "    \"\"\"\n",
    "    g = 9.82         # m/s^2\n",
    "    density = 1000   # kg/m^3\n",
    "    \n",
    "    mass_flow = volume_flow * density\n",
    "    \n",
    "    return mass_flow * g * height * efficiency\n"
   ]
  },
  {
   "cell_type": "code",
   "execution_count": 4,
   "id": "bacterial-sperm",
   "metadata": {},
   "outputs": [
    {
     "name": "stdout",
     "output_type": "stream",
     "text": [
      "3928.0 kW\n"
     ]
    }
   ],
   "source": [
    "print(f\"{hydro_power(50, 10)/1000} kW\")"
   ]
  },
  {
   "cell_type": "code",
   "execution_count": null,
   "id": "atomic-visiting",
   "metadata": {},
   "outputs": [],
   "source": []
  }
 ],
 "metadata": {
  "kernelspec": {
   "display_name": "Python 3",
   "language": "python",
   "name": "python3"
  },
  "language_info": {
   "codemirror_mode": {
    "name": "ipython",
    "version": 3
   },
   "file_extension": ".py",
   "mimetype": "text/x-python",
   "name": "python",
   "nbconvert_exporter": "python",
   "pygments_lexer": "ipython3",
   "version": "3.7.3"
  }
 },
 "nbformat": 4,
 "nbformat_minor": 5
}
