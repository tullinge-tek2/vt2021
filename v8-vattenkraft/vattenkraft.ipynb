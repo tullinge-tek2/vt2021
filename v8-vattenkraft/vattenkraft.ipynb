{
 "cells": [
  {
   "cell_type": "markdown",
   "id": "vulnerable-harris",
   "metadata": {},
   "source": [
    "# Vattenkraftverk\n",
    "\n",
    "<img src=\"http://vattenkraft.info/teori/bilder/kraftverk.gif\">\n",
    "\n",
    "Om vattenkraft, enkelt exempel på tavlan. mgh, volymflöde (vattenföring), massflöde.\n",
    "\n",
    "[How much power could I generate from a Hydro turbine?](https://www.renewablesfirst.co.uk/hydropower/hydropower-learning-centre/how-much-power-could-i-generate-from-a-hydro-turbine/)\n",
    "\n",
    "Begrepp:\n",
    "- **generator** vs. **elmotor**\n",
    "- **flöde**\n",
    "- **fallhöjd**\n",
    "- **turbin**\n",
    "- **vattenmagasin**\n",
    "- **AC/DC**\n"
   ]
  },
  {
   "cell_type": "code",
   "execution_count": 59,
   "id": "three-volleyball",
   "metadata": {},
   "outputs": [],
   "source": [
    "# enkel modell?\n"
   ]
  }
 ],
 "metadata": {
  "kernelspec": {
   "display_name": "Python 3",
   "language": "python",
   "name": "python3"
  },
  "language_info": {
   "codemirror_mode": {
    "name": "ipython",
    "version": 3
   },
   "file_extension": ".py",
   "mimetype": "text/x-python",
   "name": "python",
   "nbconvert_exporter": "python",
   "pygments_lexer": "ipython3",
   "version": "3.7.3"
  }
 },
 "nbformat": 4,
 "nbformat_minor": 5
}
