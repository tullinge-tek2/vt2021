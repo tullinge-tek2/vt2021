{
 "cells": [
  {
   "cell_type": "markdown",
   "id": "contemporary-framework",
   "metadata": {},
   "source": [
    "# Lär dig hur man plottar saker\n",
    "\n",
    "Vi kommer i kursen använda oss av tre **mycket populära** python-bibliotek för data science\n",
    "- matplotlib\n",
    "- numpy\n",
    "- pandas\n"
   ]
  },
  {
   "cell_type": "markdown",
   "id": "million-issue",
   "metadata": {},
   "source": [
    "# Matplotlib\n",
    "\n",
    "[Officiell tutorial](https://matplotlib.org/stable/tutorials/introductory/usage.html#sphx-glr-tutorials-introductory-usage-py)\n",
    "\n",
    "Börja med att importera biblioteket genom att köra cellen nedan."
   ]
  },
  {
   "cell_type": "code",
   "execution_count": null,
   "id": "general-forth",
   "metadata": {},
   "outputs": [],
   "source": [
    "import matplotlib.pyplot as plt"
   ]
  },
  {
   "cell_type": "markdown",
   "id": "subtle-register",
   "metadata": {},
   "source": [
    "\n",
    "Nedanför skapar vi vanliga python-listor med x och y-värden och plottar sedan dessa."
   ]
  },
  {
   "cell_type": "code",
   "execution_count": null,
   "id": "ranging-bidder",
   "metadata": {},
   "outputs": [],
   "source": [
    "x =  [0, 1, 2, 3, 4, 5]\n",
    "y = [5, 5, 6, 7, 9, 8]\n",
    "\n",
    "fig, ax = plt.subplots()\n",
    "ax.set_title(\"This is my first plot!\")\n",
    "ax.plot(x, y)"
   ]
  },
  {
   "cell_type": "markdown",
   "id": "worse-navigation",
   "metadata": {},
   "source": [
    "Gör nu en egen plot på samma sätt."
   ]
  },
  {
   "cell_type": "code",
   "execution_count": null,
   "id": "royal-kinase",
   "metadata": {},
   "outputs": [],
   "source": [
    "# Do stuff here"
   ]
  },
  {
   "cell_type": "markdown",
   "id": "catholic-sheriff",
   "metadata": {},
   "source": [
    "## Flera kurvor i samma figur\n",
    "\n",
    "Går det? Självklart!\n",
    "\n",
    "- Kör koden nedanför.\n",
    "- **Hitta på** (ja, använd fantasin) vad kurvorna representerar. Byt titel på figuren till något lämpligt.\n",
    "- Kan du lägga till **legends**? (namn på de två kurvorna) \n",
    "- Kan du lägga till namn på x- och y-axel?\n",
    "\n",
    "Tips: Kolla i den officiella dokumentationen. Sök efter `legend` och `label`"
   ]
  },
  {
   "cell_type": "code",
   "execution_count": null,
   "id": "caroline-liverpool",
   "metadata": {},
   "outputs": [],
   "source": [
    "\n",
    "x =  [0, 1, 2, 3, 4, 5]\n",
    "y1 = [5, 5, 6, 7, 9, 8]\n",
    "y2 = [1, -3, 2, 3, 7, 20]\n",
    "\n",
    "fig, ax = plt.subplots()\n",
    "ax.set_title(\"Mysterious plot\")\n",
    "ax.plot(x, y1)\n",
    "ax.plot(x, y2)"
   ]
  },
  {
   "cell_type": "markdown",
   "id": "considered-present",
   "metadata": {},
   "source": [
    "# Numpy\n",
    "\n",
    "Att använda Pythons listor är inte så lämpligt när det handlar om stora datamängder. Istället använder man biblioteket **numpy**\n",
    "\n",
    "[Officiell tutorial (for absolute beginners)](https://numpy.org/devdocs/user/absolute_beginners.html)\n",
    "\n",
    "Du förväntas absolut inte läsa allt. Skumma valda delar av artikeln och testa enkla kodexempel! Försök bli kompis med användbara funktioner, t.ex. `zeros`, `ones`, `arange`"
   ]
  },
  {
   "cell_type": "code",
   "execution_count": null,
   "id": "severe-update",
   "metadata": {},
   "outputs": [],
   "source": [
    "np.arange(0, 10, 2) # start, stop, intervall"
   ]
  },
  {
   "cell_type": "code",
   "execution_count": null,
   "id": "neither-success",
   "metadata": {},
   "outputs": [],
   "source": [
    "x = np.arange(0, 50, 0.5)\n",
    "y = np.sin(x)\n",
    "fig, ax = plt.subplots()\n",
    "ax.set_title(\"This is another plot!\")\n",
    "ax.plot(x, y)"
   ]
  },
  {
   "cell_type": "markdown",
   "id": "nervous-repository",
   "metadata": {},
   "source": [
    "# Förslag på saker du kan plotta\n",
    "\n",
    "- `y = x`\n",
    "- `y = 3x + 2`\n",
    "- `y = sin(x) + x`\n",
    "- `y = sin(x) * x`\n",
    "- `y = sin(2x) * sin(0.1x)`\n",
    "- `y = sin(x)^2 + cos(x)^2`\n",
    "- `y = x^2`\n",
    "- `y = 2^x`\n",
    "- `y1 = sin(x) och y2=cos(x)`\n",
    "\n",
    "<mark>HITTA PÅ EGNA IDÈER</mark>\n",
    "\n",
    "- Kan du sätta färg på dem?"
   ]
  },
  {
   "cell_type": "markdown",
   "id": "greater-worker",
   "metadata": {},
   "source": [
    "\n",
    "## Bra grejer att ha koll på \n",
    "\n",
    "#### Matplotlib och numpy\n",
    "- Hur sätter du titel på en plot?\n",
    "- labels på x och y-axel\n",
    "- legend (namn på olika grafer)\n",
    "- line plots och scatter plots\n",
    "- numpy\n",
    "  - zeros(), ones(), arange()\n",
    "  - max(), min(), mean()\n",
    "  - storlek på array\n",
    "- plotta olika kurvor\n",
    "\n",
    "#### Jupyter\n",
    "- Hur skapar man en ny cell?\n",
    "- Hur kör man en cell?\n",
    "- Hur tar man bort en cell?\n",
    "- Hur byter man cell-typ från kod till markdown och tvärtom?"
   ]
  },
  {
   "cell_type": "code",
   "execution_count": null,
   "id": "studied-broadcast",
   "metadata": {},
   "outputs": [],
   "source": []
  }
 ],
 "metadata": {
  "kernelspec": {
   "display_name": "Python 3",
   "language": "python",
   "name": "python3"
  },
  "language_info": {
   "codemirror_mode": {
    "name": "ipython",
    "version": 3
   },
   "file_extension": ".py",
   "mimetype": "text/x-python",
   "name": "python",
   "nbconvert_exporter": "python",
   "pygments_lexer": "ipython3",
   "version": "3.7.3"
  }
 },
 "nbformat": 4,
 "nbformat_minor": 5
}
