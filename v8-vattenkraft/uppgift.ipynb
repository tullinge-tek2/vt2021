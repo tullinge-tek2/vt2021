{
 "cells": [
  {
   "cell_type": "markdown",
   "id": "regular-penguin",
   "metadata": {},
   "source": [
    "# Arbeta med data från verkligheten\n"
   ]
  },
  {
   "cell_type": "markdown",
   "id": "silent-chicago",
   "metadata": {},
   "source": [
    "Via [SMHI](https://vattenwebb.smhi.se/station/#) kan man få ut vattenflöden från olika mätstationer runt om i landet. \n",
    "\n",
    "Exempel på vattenkraftverk med mätstationer:\n",
    "- Porjus\n",
    "- Älvkarleby\n",
    "- Lima\n",
    "- Sikfors\n",
    "\n",
    "<mark>Frågeställning: Kan vi från datat räkna ut hur mycket energi som produceras ett år (t.ex. 2019)?</mark>\n",
    "\n",
    "Vi ska i denna uppgift titta närmare på **Porjus kraftverk**.\n",
    "\n",
    "Gå in på SMHI-länken ovan och sök fram \"Porjus\".\n"
   ]
  },
  {
   "cell_type": "markdown",
   "id": "eligible-mitchell",
   "metadata": {},
   "source": [
    "## 0. Förberedelser\n",
    "\n",
    "Vi kommer behöva tre bibliotek för detta: `numpy`, `matplotlib` och `pandas`\n",
    "\n",
    "Kör cellen nedan för att importera dessa bibliotek"
   ]
  },
  {
   "cell_type": "code",
   "execution_count": 74,
   "id": "stupid-associate",
   "metadata": {},
   "outputs": [],
   "source": [
    "import numpy as np\n",
    "import matplotlib.pyplot as plt\n",
    "import pandas as pd"
   ]
  },
  {
   "cell_type": "markdown",
   "id": "useful-reply",
   "metadata": {},
   "source": [
    "## 1. Ladda ner data från SMHI\n",
    "\n",
    "\n",
    "1. Ladda hem `.xls`-filen med datat till din dator. Döp om filen till något kort och enkelt, förslagsvis `porjus.xls`.\n",
    "2. Ta reda på lite fakta om vattenkraftverket: fallhöjden, m.m. Spara fallhöjden nedan eftersom du kommer behöva den senare.\n"
   ]
  },
  {
   "cell_type": "code",
   "execution_count": null,
   "id": "democratic-fluid",
   "metadata": {},
   "outputs": [],
   "source": [
    "height = # fyll i fallhöjden på vattenkraftverket här"
   ]
  },
  {
   "cell_type": "markdown",
   "id": "painful-archives",
   "metadata": {},
   "source": [
    "## 2. Ladda upp datat hit till Jupyter\n",
    "\n",
    "Uppe till vänster ser du en uppladdningssymbol (pil uppåt). Klicka på den för att ladda upp filen till den här mappen."
   ]
  },
  {
   "cell_type": "markdown",
   "id": "retained-oasis",
   "metadata": {},
   "source": [
    "## 3. Läs in datat med pandas\n",
    "\n",
    "- [Read XLS with pandas](https://pythonspot.com/read-xls-with-pandas/)\n",
    "\n",
    "döp variabeln till `df` (för DataFrame)"
   ]
  },
  {
   "cell_type": "code",
   "execution_count": 77,
   "id": "dutch-enlargement",
   "metadata": {},
   "outputs": [],
   "source": [
    "# Do stuff here\n",
    "df = ..."
   ]
  },
  {
   "cell_type": "markdown",
   "id": "coral-snowboard",
   "metadata": {},
   "source": [
    "## 4. Utforska och \"städa\" datat\n",
    "\n",
    "Använd `head`, `tail`, `columns`, `dtypes` för att lära dig mer om hur datat ser ut.\n",
    "\n",
    "Till exempel:\n",
    "````python\n",
    "df.head(3)\n",
    "```` \n",
    "\n",
    "````python\n",
    "df.columns\n",
    "```` \n",
    "\n",
    "### Utforska datamängden\n",
    "1. Vilken rad startar det riktiga datat på?\n",
    "2. När är äldsta mätvärdet ifrån? När är sista mätvärdet ifrån?\n",
    "3. Hur många rader innehåller datat?\n",
    "4. Vad har kolumnerna för datatyper i nuläget?\n",
    "5. Vad representerar kolumnerna?\n",
    "6. Vad är högsta och lägsta flödet i hela datamängden?\n",
    "7. Vad mer noterar du?\n"
   ]
  },
  {
   "cell_type": "code",
   "execution_count": 76,
   "id": "utility-limitation",
   "metadata": {},
   "outputs": [],
   "source": [
    "# Do stuff here\n"
   ]
  },
  {
   "cell_type": "markdown",
   "id": "arabic-florist",
   "metadata": {},
   "source": [
    "## 5. Städa datat\n",
    "\n",
    "- Vi måste fixa så att DataFramen börjar på rätt rad. Ändra inläsningen `read_excel` och ange explicit header nummer (se [här](https://pandas.pydata.org/pandas-docs/stable/reference/api/pandas.read_excel.html)). Kolla `head` sen igen och se om det ser bra ut.\n",
    "\n",
    "- Döp om kolumnerna med hjälp av `df.columns` till något enklare\n",
    "\n",
    "- Vi har ytterligare ett problem. Datum-kolumnen är bara strängar nu och inte faktiska datum. Men det kan vi ordna! Använd `pd.to_datetime(...)` och skriv över datum-kolumnen"
   ]
  },
  {
   "cell_type": "code",
   "execution_count": 78,
   "id": "senior-beijing",
   "metadata": {},
   "outputs": [],
   "source": [
    "# Do stuff here"
   ]
  },
  {
   "cell_type": "markdown",
   "id": "legislative-craps",
   "metadata": {},
   "source": [
    "## 5.b Plotta datat!\n",
    "\n",
    "Vi vill såklart se datat!\n"
   ]
  },
  {
   "cell_type": "code",
   "execution_count": 79,
   "id": "suburban-hebrew",
   "metadata": {},
   "outputs": [],
   "source": [
    "# Do stuff here\n"
   ]
  },
  {
   "cell_type": "markdown",
   "id": "unexpected-casting",
   "metadata": {},
   "source": [
    "## 6. Filtrera data\n",
    "\n",
    "Vi vill bara kolla på året 2019. Filtrera datat och spara resultatet i en ny dataframe `df2`.\n"
   ]
  },
  {
   "cell_type": "code",
   "execution_count": null,
   "id": "universal-antibody",
   "metadata": {},
   "outputs": [],
   "source": [
    "# Do stuff here"
   ]
  },
  {
   "cell_type": "markdown",
   "id": "given-hormone",
   "metadata": {},
   "source": [
    "## 7. Besvara frågeställningar om energiproduktionen\n",
    "\n",
    "- Vad är den högsta effekten under 2019 för vattenkraftverket Porjus?\n",
    "- Vad är medeleffekten under hela året?\n",
    "- Plotta effekten över året 2019\n",
    "- <mark>Hur mycket energi producerades under 2019?</mark>\n",
    "- Vad mer?\n",
    "\n",
    "Du behöver använd din tidigare `hydro_power`-funktion som översätter vattenflöde (m^3/s) till effekt (W). Kopiera in funktionen i denna notebook.\n"
   ]
  },
  {
   "cell_type": "code",
   "execution_count": null,
   "id": "macro-responsibility",
   "metadata": {},
   "outputs": [],
   "source": [
    "# Do stuff here"
   ]
  },
  {
   "cell_type": "markdown",
   "id": "modified-teaching",
   "metadata": {},
   "source": [
    "# Om du blir klar\n",
    "\n",
    "- Utforska datat mer\n",
    "- Förfina plottarna!\n",
    "- Utforska ett annat vattenkraftverk\n",
    "- Lär dig mer om matplotlib, numpy och pandas\n",
    "- Lägg in en fin bild av ditt vattenkraftverk här i notebooken (du kan använda en vanlig html img-tag och ange en url)\n",
    "\n",
    "(PS. För den nyfikne: det går även att hämta data direkt från ett API [här](https://www.dataportal.se/sv/datasets/78_1998/seacmf-hydrologiska-observationer-vattenforing#ref=?p=2&q=vatten%20fl%C3%B6de&s=2&t=20&f=&rt=dataset%24esterms_IndependentDataService%24esterms_ServedByDataService))\n"
   ]
  },
  {
   "cell_type": "code",
   "execution_count": null,
   "id": "dynamic-louis",
   "metadata": {},
   "outputs": [],
   "source": []
  }
 ],
 "metadata": {
  "kernelspec": {
   "display_name": "Python 3",
   "language": "python",
   "name": "python3"
  },
  "language_info": {
   "codemirror_mode": {
    "name": "ipython",
    "version": 3
   },
   "file_extension": ".py",
   "mimetype": "text/x-python",
   "name": "python",
   "nbconvert_exporter": "python",
   "pygments_lexer": "ipython3",
   "version": "3.7.3"
  }
 },
 "nbformat": 4,
 "nbformat_minor": 5
}
