{
 "cells": [
  {
   "cell_type": "markdown",
   "id": "eastern-victim",
   "metadata": {},
   "source": [
    "# Arbeta med data från verkligheten\n"
   ]
  },
  {
   "cell_type": "markdown",
   "id": "behind-movie",
   "metadata": {},
   "source": [
    "## 1. Välj en mätstation/vattenkraftverk och ladda ner data från SMHI\n",
    "\n",
    "Gå in på [SMHI](https://vattenwebb.smhi.se/station/#) och välj en mätstation vid ett vattenkraftverk. Du kan söka i rutan uppe till höger. På wikipedia finns en lista över svenska vattenkraftverk.\n",
    "\n",
    "Exempel:\n",
    "- Porjus\n",
    "- Älvkarleby\n",
    "- Lima\n",
    "- Sikfors\n",
    "\n",
    "1. Ladda hem `.xls`-filen med datat till din dator. Döp om filen till något kort och enkelt, t.ex. `porjus.xls` eller `lima.xls`.\n",
    "2. Ta reda på lite fakta om vattenkraftverket: fallhöjden, m.m. Spara fallhöjden nedan eftersom du kommer behöva den senare.\n"
   ]
  },
  {
   "cell_type": "code",
   "execution_count": null,
   "id": "blank-queensland",
   "metadata": {},
   "outputs": [],
   "source": [
    "height = # fyll i fallhöjden på vattenkraftverket här"
   ]
  },
  {
   "cell_type": "markdown",
   "id": "round-transport",
   "metadata": {},
   "source": [
    "## 2. Ladda upp datat hit till Jupyter\n",
    "\n",
    "Uppe till vänster ser du en uppladdningssymbol. Klicka på den för att ladda upp filen."
   ]
  },
  {
   "cell_type": "markdown",
   "id": "computational-person",
   "metadata": {},
   "source": [
    "## 3. Läs in datat med pandas\n",
    "\n",
    "- [Read XLS with pandas](https://pythonspot.com/read-xls-with-pandas/)\n"
   ]
  },
  {
   "cell_type": "code",
   "execution_count": null,
   "id": "ready-finance",
   "metadata": {},
   "outputs": [],
   "source": [
    "import pandas as pd\n",
    "\n",
    "# Do stuff here\n"
   ]
  },
  {
   "cell_type": "markdown",
   "id": "simple-curtis",
   "metadata": {},
   "source": [
    "## 4. Utforska och visualisera datat\n",
    "\n",
    "1. Använd panda-funktionerna `head`, `tail` för att lära dig mer om hur datat ser ut.\n",
    "2. Ta reda på vilken rad det faktiska datat börjar på.\n",
    "\n",
    "Använd matplotlib för att visualisera datat\n"
   ]
  },
  {
   "cell_type": "code",
   "execution_count": null,
   "id": "empirical-toilet",
   "metadata": {},
   "outputs": [],
   "source": [
    "import matplotlib.pyplot as plt\n",
    "import numpy as np\n",
    "\n",
    "# Do stuff here"
   ]
  },
  {
   "cell_type": "markdown",
   "id": "wound-motor",
   "metadata": {},
   "source": [
    "## 5. Modellera vattenkraftverkets elproduktion och besvara frågeställningar\n",
    "\n",
    "- Hur mycket energi får man ut under ett år?\n",
    "- Vad är toppeffekten?\n",
    "- Vad är medeleffekten?\n",
    "- ...??? Hitta på egna frågor att försöka besvara.\n",
    "\n"
   ]
  },
  {
   "cell_type": "code",
   "execution_count": null,
   "id": "parental-plastic",
   "metadata": {},
   "outputs": [],
   "source": [
    "# Do stuff here"
   ]
  },
  {
   "cell_type": "markdown",
   "id": "generous-shaft",
   "metadata": {},
   "source": [
    "# När du är klar\n",
    "\n",
    "- Utforska datat mer\n",
    "- Lär dig mer om matplotlib och numpy, labba runt!\n",
    "- Hitta någon annan data att läsa in med pandas\n",
    "- Lägg in en fin bild av ditt vattenkraftverk här i notebooken (du kan använda en vanlig html img-tag och ange en url)\n",
    "\n",
    "(PS. För den nyfikne: det går även att hämta data direkt från ett API [här](https://www.dataportal.se/sv/datasets/78_1998/seacmf-hydrologiska-observationer-vattenforing#ref=?p=2&q=vatten%20fl%C3%B6de&s=2&t=20&f=&rt=dataset%24esterms_IndependentDataService%24esterms_ServedByDataService))\n"
   ]
  },
  {
   "cell_type": "code",
   "execution_count": null,
   "id": "numerous-bridal",
   "metadata": {},
   "outputs": [],
   "source": []
  }
 ],
 "metadata": {
  "kernelspec": {
   "display_name": "Python 3",
   "language": "python",
   "name": "python3"
  },
  "language_info": {
   "codemirror_mode": {
    "name": "ipython",
    "version": 3
   },
   "file_extension": ".py",
   "mimetype": "text/x-python",
   "name": "python",
   "nbconvert_exporter": "python",
   "pygments_lexer": "ipython3",
   "version": "3.7.3"
  }
 },
 "nbformat": 4,
 "nbformat_minor": 5
}
