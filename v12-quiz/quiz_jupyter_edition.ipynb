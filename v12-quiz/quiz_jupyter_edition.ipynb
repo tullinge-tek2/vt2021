{
 "cells": [
  {
   "cell_type": "markdown",
   "id": "active-southwest",
   "metadata": {},
   "source": [
    "# Quiz (jupyter edition)\n"
   ]
  },
  {
   "cell_type": "markdown",
   "id": "satisfied-worker",
   "metadata": {},
   "source": [
    "**1 Du skjuter på en låda med kraften 100 N i 20 sekunder. Lådan rör sig med hastigheten 0.5 m/s**\n",
    "- A. Hur stort arbete har du utfört?\n",
    "- B. Vilken effekt har du levererat?\n",
    "\n",
    "Gör uppgiften i två steg\n",
    "1. Räkna först ut svaret på a och b\n",
    "2. *Generalisera* sedan din lösning genom att skapa två funktioner `calculate_work(force, time, speed)` och `calculate_power(force, time, speed)` som du sedan anropar med värdena i uppgiften. Bekräfta att du fick samma svar.\n"
   ]
  },
  {
   "cell_type": "code",
   "execution_count": null,
   "id": "integral-fusion",
   "metadata": {},
   "outputs": [],
   "source": [
    "# Do stuff here"
   ]
  },
  {
   "cell_type": "markdown",
   "id": "apparent-congo",
   "metadata": {},
   "source": [
    "**2 Uppskatta effekten som levereras av ett vattenkraftverk med följande data**\n",
    "\n",
    "- Fallhöjd: 1.06 m\n",
    "- Vattenföring: 9.73 m3/s\n",
    "- Verkningsgrad: 10.8 %\n",
    "\n",
    "Gör uppgiften i två steg\n",
    "1. Gör först en uppskattning (dvs med avrundade värden)\n",
    "2. Gör sedan en exakt beräkning. Räkna ut hur många procent fel din uppskattning blev.\n"
   ]
  },
  {
   "cell_type": "code",
   "execution_count": null,
   "id": "effective-protest",
   "metadata": {},
   "outputs": [],
   "source": [
    "# Do stuff here"
   ]
  },
  {
   "cell_type": "markdown",
   "id": "alike-dialogue",
   "metadata": {},
   "source": [
    "**3 Vilken energienhet:**\n",
    "\n",
    "a) är SI-enhet\n",
    "\n",
    "b) används på elräkningen?\n",
    "\n",
    "<mark>Svara i kommentaren nedan</mark>"
   ]
  },
  {
   "cell_type": "code",
   "execution_count": null,
   "id": "popular-illness",
   "metadata": {},
   "outputs": [],
   "source": [
    "# a)\n",
    "# b)\n"
   ]
  },
  {
   "cell_type": "markdown",
   "id": "monetary-adventure",
   "metadata": {},
   "source": [
    "**4 Vad heter den maskin som omvandlar mekanisk energi till elektrisk energi?**\n",
    "\n",
    "<mark>Svara i kommentaren nedan</mark>"
   ]
  },
  {
   "cell_type": "code",
   "execution_count": null,
   "id": "fifth-attachment",
   "metadata": {},
   "outputs": [],
   "source": [
    "# Svar här"
   ]
  },
  {
   "cell_type": "markdown",
   "id": "accompanied-effect",
   "metadata": {},
   "source": [
    "**5 Medeleffekten i ett visst kraftverk var 1 MW i januari, 2 MW i februari, 3 MW i mars.\n",
    "Hur mycket energi producerade kraftverket i jan-mars? (låt alla månader vara 30 dagar)**\n",
    "\n",
    "Gör uppgiften i två steg\n",
    "1. Räkna först ut svaret (svara i MWh eller GWh)\n",
    "2. *Generalisera* sedan din lösning genom att skriva en funktion `total_energy_produced(monthly_power_average)` som acceptera en lista på månadsvärden. Anropa med värdena i uppgiften och bekräfta att du får samma."
   ]
  },
  {
   "cell_type": "code",
   "execution_count": 1,
   "id": "healthy-theta",
   "metadata": {},
   "outputs": [],
   "source": [
    "# Do stuff here\n"
   ]
  }
 ],
 "metadata": {
  "kernelspec": {
   "display_name": "Python 3",
   "language": "python",
   "name": "python3"
  },
  "language_info": {
   "codemirror_mode": {
    "name": "ipython",
    "version": 3
   },
   "file_extension": ".py",
   "mimetype": "text/x-python",
   "name": "python",
   "nbconvert_exporter": "python",
   "pygments_lexer": "ipython3",
   "version": "3.7.3"
  }
 },
 "nbformat": 4,
 "nbformat_minor": 5
}
