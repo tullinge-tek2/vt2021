{
 "cells": [
  {
   "cell_type": "markdown",
   "id": "charitable-dimension",
   "metadata": {},
   "source": [
    "# Uppgift\n",
    "\n",
    "![vindkraft](https://teknikprojektet.se/wp-content/uploads/2016/04/vindkrafter.jpg)\n",
    "\n",
    "Hallå där! Du har som sommarjobb för ett lokalt energikonsultbolag fått i uppdrag att göra en förenklad simulering av en vindkraftspark. Vindkraftsparken ska bestå av ett mindre antal *identiska* horisontalaxlade vindkraftverk. Vindkraftverken antas alla uppleva samma vindstyrka och stå i perfekt vinkel mot vinden.\n",
    "\n",
    "**Frågan du ska besvara är:** *Hur mycket energi skulle din vindkraftspark producera under mars 2021 om den låg här i Tullinge?*\n"
   ]
  },
  {
   "cell_type": "markdown",
   "id": "attached-trance",
   "metadata": {},
   "source": [
    "## Meh! Hur ska det här gå till?\n",
    "\n",
    "Vinddata för Tullinge hämtas [från SMHI](https://www.smhi.se/data/meteorologi/ladda-ner-meteorologiska-observationer#param=wind,stations=all,stationid=97100) i .csv-format. Du behöver importera denna data med och ange semikolon (dvs symbolen ; ) som separator.\n",
    "\n",
    "> \"Vad är det för modell/formel jag ska använda?! Jag vet ingenting om vindkraft?!?!?!\"\n",
    "\n",
    "<mark>Använd webben för att ta reda på svaret.</mark> Vad kan du googla på? Tänk på både svenska och engelska, hitta gärna flera källor så ökar tillförlitligheten. **Ange källor!**\n",
    "\n",
    "### Process\n",
    "\n",
    "1. Hitta, ladda ner och importera data\n",
    "3. Utforska datat och förstå vad det innehåller\n",
    "4. Städa\n",
    "5. Skapa en modell och använd datat för att besvara din frågeställning\n",
    "6. Tolka resultaten och bedöm rimlighet\n",
    "7. Ev. gå tillbaka och förbättra din modell\n",
    "\n",
    "\n",
    "### Observera\n",
    "Vinddata från SMHI mäts nära marken (ca 10 meter upp) medan vindkraftverkens rotor typiskt ligger på ca 100 meters höjd, där det blåser mycket mer. Detta är därför en grov förenkling. Enligt [denna sida](http://www.vindkraftsportalen.se/vindkraft-fakta/) ökar vinden med 10% för varje fördubbling. $ 10\\ m \\cdot 2^3 = 80\\ m ≅ 100\\ m $\n",
    "\n",
    "Vinden bör alltså vara drygt 30 % högre i era beräkningar jämfört med mätdatan från SMHI för att kompensera för höjden.\n",
    "\n",
    "### Vanliga problem\n",
    "\n",
    "- Hur lägger jag till en ny kolumn? [How to add new columns to Pandas dataframe?](https://re-thought.com/how-to-add-new-columns-in-a-dataframe-in-pandas/)\n",
    "- Hur väljer jag ut rader mellan två datum? [Pandas : Select rows between two dates](https://blog.softhints.com/pandas-select-rows-between-dates-dataframe-csv/)\n",
    "\n",
    "Se även [officiell dokumentation för Pandas](https://pandas.pydata.org/pandas-docs/stable/user_guide/index.html) och [Matplotlib Usage Guide](https://matplotlib.org/stable/tutorials/introductory/usage.html#sphx-glr-tutorials-introductory-usage-py)\n"
   ]
  },
  {
   "cell_type": "markdown",
   "id": "turkish-guest",
   "metadata": {},
   "source": [
    "# Instruktioner från uppdragsgivaren\n",
    "\n",
    "### Deluppdrag 1\n",
    "Uppdragsgivaren vill i första hand ta reda på hur mycket energi som skulle produceras av en park med följande\n",
    "- 3 st. vindkraftverk modell B. radie 30 m\n",
    "- verkningsgrad generator: 90 %\n",
    "- verkningsgrad transformator: 95 %\n",
    "\n",
    "Uppdragsgivaren vill i första hand att du med hjälp av data från SMHI ska kunna visa hur effekten varierar över tid.\n",
    "- Vad är högsta effekten under den tillgängliga dataserien?\n",
    "- Kan du visualisera effekten i en graf?\n",
    "- Kan du avgränsa dig till just mars månad?\n",
    "- Kan du räkna ut den totala energin som skulle ha producerats under mars?\n",
    "\n",
    "### Deluppdrag 2\n",
    "\n",
    "Uppdragsgivaren vill själv kunna gå in och ändra på parametrarna, men är inte så duktig på att koda. Kan du göra något interaktivt? Kolla i filen `interactive.ipynb` som lämnades av en tidigare medarbetare på firman.\n",
    "\n",
    "Uppdragsgivaren vill kunna skruva på följande parametrar:\n",
    "- Antal vindkraftverk\n",
    "- Radie (m)\n",
    "- Verkningsgrad generator (%)\n",
    "- Verkningsgrad transformator (%)\n",
    "\n",
    "### Deluppdrag 3\n",
    "\n",
    "Om du kommit så här långt vill uppdragsgivaren höra dina tankar och reflektioner.\n",
    "- Kan du ta fram ett eget förslag på en vindkraftspark och dess energiproduktion?\n",
    "- Kan du jämföra med någon annan alternativ placering som kanske har bättre vindförhållanden, t.ex. på västkusten?\n",
    "- Vilka brister ser du i modellen som tagits fram?\n",
    "- Kan du eliminera några av bristerna?\n",
    "\n",
    "Bonus: Uppdragsgivaren blir nog även lite extra imponerad om du lyckas använda Latex-syntax för att snygga till eventuella formler"
   ]
  },
  {
   "cell_type": "markdown",
   "id": "digital-desert",
   "metadata": {},
   "source": [
    "# <mark>Din lösning nedan</mark>"
   ]
  },
  {
   "cell_type": "code",
   "execution_count": 3,
   "id": "romance-crime",
   "metadata": {},
   "outputs": [],
   "source": [
    "# vi börjar som alltid med att importera våra bibliotek\n",
    "import pandas as pd\n",
    "import matplotlib.pyplot as plt\n",
    "import numpy as np"
   ]
  },
  {
   "cell_type": "code",
   "execution_count": null,
   "id": "hollywood-framing",
   "metadata": {},
   "outputs": [],
   "source": [
    "# kom ihåg att du kan kolla på tidigare uppgifter för att påminna dig om hur man använder dem!\n"
   ]
  }
 ],
 "metadata": {
  "kernelspec": {
   "display_name": "Python 3",
   "language": "python",
   "name": "python3"
  },
  "language_info": {
   "codemirror_mode": {
    "name": "ipython",
    "version": 3
   },
   "file_extension": ".py",
   "mimetype": "text/x-python",
   "name": "python",
   "nbconvert_exporter": "python",
   "pygments_lexer": "ipython3",
   "version": "3.7.3"
  }
 },
 "nbformat": 4,
 "nbformat_minor": 5
}
