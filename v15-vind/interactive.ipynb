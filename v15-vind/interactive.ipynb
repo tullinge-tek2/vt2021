{
 "cells": [
  {
   "cell_type": "markdown",
   "id": "democratic-marshall",
   "metadata": {},
   "source": [
    "# Göra interaktiva grejer i Jupyter\n",
    "\n",
    "1. Kolla in denna länk och exemplet nedan. [Using the @interact decorator](https://ipywidgets.readthedocs.io/en/latest/examples/Using%20Interact.html)\n",
    "2. Gör några egna exempel i filen nedan"
   ]
  },
  {
   "cell_type": "markdown",
   "id": "sealed-precipitation",
   "metadata": {},
   "source": [
    "### Steg 1: importera"
   ]
  },
  {
   "cell_type": "code",
   "execution_count": 2,
   "id": "composite-seminar",
   "metadata": {},
   "outputs": [],
   "source": [
    "from ipywidgets import interact\n",
    "import matplotlib.pyplot as plt\n",
    "import numpy as np"
   ]
  },
  {
   "cell_type": "code",
   "execution_count": 8,
   "id": "original-protocol",
   "metadata": {},
   "outputs": [
    {
     "data": {
      "application/vnd.jupyter.widget-view+json": {
       "model_id": "10f07440640a40d9b31790bcce5bccb9",
       "version_major": 2,
       "version_minor": 0
      },
      "text/plain": [
       "interactive(children=(IntSlider(value=2, description='k', max=6, min=-2), IntSlider(value=3, description='m', …"
      ]
     },
     "metadata": {},
     "output_type": "display_data"
    }
   ],
   "source": [
    "\n",
    "def double(n):\n",
    "    return 2*n\n",
    "\n",
    "@interact(k=2, m=3)\n",
    "def do_something(k, m):\n",
    "    \n",
    "    x = np.arange(11)\n",
    "    plt.plot(x, k*x + m)\n",
    "    plt.xlim([0, 10])\n",
    "    plt.ylim([0, 10])\n",
    "\n",
    "    \n",
    "    \n"
   ]
  },
  {
   "cell_type": "code",
   "execution_count": 7,
   "id": "premier-migration",
   "metadata": {},
   "outputs": [],
   "source": [
    "## Gör något eget här"
   ]
  },
  {
   "cell_type": "code",
   "execution_count": null,
   "id": "dangerous-visibility",
   "metadata": {},
   "outputs": [],
   "source": []
  }
 ],
 "metadata": {
  "kernelspec": {
   "display_name": "Python 3",
   "language": "python",
   "name": "python3"
  },
  "language_info": {
   "codemirror_mode": {
    "name": "ipython",
    "version": 3
   },
   "file_extension": ".py",
   "mimetype": "text/x-python",
   "name": "python",
   "nbconvert_exporter": "python",
   "pygments_lexer": "ipython3",
   "version": "3.7.3"
  }
 },
 "nbformat": 4,
 "nbformat_minor": 5
}
