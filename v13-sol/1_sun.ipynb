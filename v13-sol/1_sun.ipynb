{
 "cells": [
  {
   "cell_type": "markdown",
   "id": "detailed-arkansas",
   "metadata": {},
   "source": [
    "# Solenergi\n",
    "\n",
    "På sätt och vis är all energi\"produktion\" på Jorden, med kärnkraft och geotermisk energi som undantag, i grund och botten solenergi. Till och med fossila bränslen har sitt ursprung i solen. Solen driver vattnets kretslopp som ger oss forsande älvar, solen driver på väder och vind som får vindkraft att snurra, och solen får inte minst allt grönt att växa vilket i årtusenden värmt oss människor.\n",
    "\n",
    "Detta avsnitt handlar dock om det som i mer \"direkt\" mening brukar kallas för solenergi.\n",
    "\n",
    "## Två typer av solenergi\n",
    "\n",
    "### Solpaneler och termisk solkraft\n",
    "Vi kan välja att helt enkelt använda solenergin som en värmekälla. Vi kan värma vatten som sedan värmer en bostad eller ger varmt duschvattnet. För detta använder man *solpaneler*.\n",
    "\n",
    "Om vi genom olika tekniska lösningar värmer på vattnet ytterligare och höjer trycket så kan vi använda ångan för att driva en turbin och generator. Detta brukar kallas för *termisk solkraft*.\n",
    "\n",
    "Omvandlingen är då: $$solljus \\rightarrow värme \\rightarrow elektricitet$$\n",
    "\n",
    "Nedan följer en bild på ett termiskt solkraftverk och därefter en bild på solpaneler.\n",
    "\n",
    "![termisk solkraft](https://fatcamp.io/el.se/images/artiklar/solkraftverk.png)\n",
    "![solpaneler](https://modernize.com/wp-content/uploads/2015/09/solar-water-heater-on-house.jpg)\n",
    "\n",
    "<br>\n",
    "<br>\n",
    "\n",
    "### Solceller\n",
    "Den teknologi som växer snabbast idag är *solceller* som bygger på så kallad [fotovoltaik](https://sv.wikipedia.org/wiki/Fotovoltaik).\n",
    "\n",
    "Omvandlingen är då $$solljus \\rightarrow elektricitet$$\n",
    "\n",
    "> **Fotovoltaisk produktion har dubblerats vartannat år och ökat med i genomsnitt 48% varje år sedan 2002, vilket gör den till den snabbast växande energiteknologin i världen**\n",
    ">\n",
    "> -Wikipedias artikel om fotovoltaik\n",
    "\n",
    "\n",
    "![solceller](https://www.ellevio.se/globalassets/uploads/2018/solcell_beslut_toppbild_1440x400.jpg)\n"
   ]
  },
  {
   "cell_type": "markdown",
   "id": "original-warner",
   "metadata": {},
   "source": [
    "## Innan du går vidare!\n",
    "\n",
    "Gör klart uppgifterna i `v11-klimatet/2_solar_constant.ipynb`.\n",
    "\n",
    "Återvänd sedan hit.\n",
    "\n",
    "<br>"
   ]
  },
  {
   "cell_type": "markdown",
   "id": "subjective-airline",
   "metadata": {},
   "source": [
    "![earth and sun](./assets/earth_sun.jpg)\n",
    "\n",
    "## Hur starkt är solljuset på Jordens avstånd?\n",
    "\n",
    "**Solar Constant** (solkonstanten) är den effekt per kvadratmeter på Jordens avstånd från solen. Storheten anges i W/m2.\n",
    "\n",
    "Räkna ut solkonstanten. Utgå från Solens effekt (kallas *luminositet*) och avståndet från Solen till Jorden.\n"
   ]
  },
  {
   "cell_type": "code",
   "execution_count": null,
   "id": "interim-penalty",
   "metadata": {},
   "outputs": [],
   "source": [
    "# Do stuff here"
   ]
  },
  {
   "cell_type": "markdown",
   "id": "shaped-header",
   "metadata": {},
   "source": [
    "## Hur stor effekt solenergi tar hela jorden emot?\n",
    "För att besvara denna fråga behöver du fundera på hur stor area som träffas av solljuset. Jorden är en sfär, men sett från Solens perspektiv är Jorden snarare en skiva.\n",
    "\n",
    "![projection](assets/sphere_projection.jpg)\n",
    "\n",
    "Hur stor effekt solenergi tar hela jorden emot?\n",
    "\n",
    "<details>\n",
    "    <summary>Ledtråd</summary>\n",
    "    \n",
    "    Om du vet solkonstanten från frågan innan så vet du hur stor effekten är per areaenhet. Hur stor area har Jordens \"skugga\" (projektion)? Se bilden ovan...\n",
    "</details>"
   ]
  },
  {
   "cell_type": "code",
   "execution_count": null,
   "id": "stretch-stroke",
   "metadata": {},
   "outputs": [],
   "source": [
    "# Do stuff here"
   ]
  },
  {
   "cell_type": "markdown",
   "id": "square-roommate",
   "metadata": {},
   "source": [
    "Den totala energikonsumtionen av hela mänskligheten är i storleksordningen 10^13 W (10 TW).\n",
    "\n",
    "Hur dessa storheter förhåller sig illustreras i bilden nedan:\n",
    "\n",
    "![human power and energy from the sun](assets/human_power.png)\n",
    "\n",
    "En tydlig slutsats är alltså att **det finns otroligt gott om solenergi på global nivå.**\n"
   ]
  },
  {
   "cell_type": "markdown",
   "id": "instant-meeting",
   "metadata": {},
   "source": [
    "### Hur mycket når Jordens faktiska yta?\n",
    "\n",
    "En del av solljuset som når Jorden kommer att reflekteras eller absorberas av vår atmosfär. Bara en viss andel av solljuset når alltså den faktiska marken där våra solceller kan samla upp energin.\n",
    "\n",
    "Solljuset består av en blandning av olika våglängder. Ljus med olika våglängd påverkas olika mycket av gaserna i atmosfären. Nedan följer ett transmittansspektrum som visar hur stor andel av olika våglängder som släpps igenom (0% betyder att allt ljus av den våglängden blockeras).\n",
    "\n",
    "![spectrum](assets/spectrum.png)\n",
    "\n",
    "För att räkna ut hur stor inverkan detta har i praktiken skulle vi behöva beräkna en integral över kurvan och även ta hänsyn till att solljusets fördelning av olika våglängder inte är *uniform* (det finns mer av vissa våglängder än andra).\n",
    "\n",
    "För våra beräkningar kan vi utgå ifrån att *ca 70% av solljuset släpps igenom*, vilket inte ser helt orimligt ut när man kollar på spektrat ovan.\n",
    "\n",
    "**Fråga: Vid ekvatorn, när solljuset kommer rakt uppeifrån, på en klar dag - hur stor effekt träffar en kvadratmeter? Vad är intensiteten?**"
   ]
  },
  {
   "cell_type": "code",
   "execution_count": null,
   "id": "champion-mission",
   "metadata": {},
   "outputs": [],
   "source": [
    "# Do stuff here\n"
   ]
  },
  {
   "cell_type": "markdown",
   "id": "saved-harvard",
   "metadata": {},
   "source": [
    "## Hur sprids solljuset ut på Jorden?\n",
    "Solkonstanten visar hur stor effekt en satellit (med en sådan bana att den inte skuggas av Jorden) kan få på varje kvadratmeter solcell.\n",
    "\n",
    "![satellite orbits](https://www.scienceabc.com/wp-content/uploads/2017/08/Weather-satellite-orbits.jpg)\n",
    "\n",
    "Med beräkningen ovan har vi även tagit hänsyn till atmosfären.\n",
    "\n",
    "Men faktum är att vår solcell står i mörker halva dygnet! Det är därför användbart att räkna ut något som kallas för **Daily Solar Resource** (DSR). DSR är den energimängd som når en viss yta under ett helt dygn.\n",
    "\n",
    "**Fråga: Vad är den genomsnittliga Daily Solar Resource vid jordens yta?**\n",
    "\n",
    "<mark>Ledtråd:</mark> DSR kommer vara lägre än solljusets intensitet då den behöver fördelas på hela jordens yta (sfären) och inte bara den projicerade skivan.\n",
    "\n",
    "<mark>Viktigt kommentar:</mark> Solkonstanten, intensiteten vid markytan och daily solar resource har alla samma dimension - energi per area per tid. MEN man använder ofta olika enheter: $\\frac{W}{m^2}$ vs. $\\frac{kWh}{m^2 d}$\n"
   ]
  },
  {
   "cell_type": "code",
   "execution_count": null,
   "id": "cathedral-above",
   "metadata": {},
   "outputs": [],
   "source": [
    "# Do stuff here"
   ]
  },
  {
   "cell_type": "markdown",
   "id": "smaller-wedding",
   "metadata": {},
   "source": [
    "## Vad har vi inte berört än så länge?\n",
    "\n",
    "- Att latituden spelar roll (hur nära ekvatorn man befinner sig)\n",
    "- Hur vi kan hantera energiförsörjning när det är molnigt eller natt"
   ]
  },
  {
   "cell_type": "markdown",
   "id": "fallen-qatar",
   "metadata": {},
   "source": [
    "# Kommit hit?\n",
    "\n",
    "Läs [den här artikeln](https://el.se/solkraft) och logga sedan ut!"
   ]
  }
 ],
 "metadata": {
  "kernelspec": {
   "display_name": "Python 3",
   "language": "python",
   "name": "python3"
  },
  "language_info": {
   "codemirror_mode": {
    "name": "ipython",
    "version": 3
   },
   "file_extension": ".py",
   "mimetype": "text/x-python",
   "name": "python",
   "nbconvert_exporter": "python",
   "pygments_lexer": "ipython3",
   "version": "3.7.3"
  }
 },
 "nbformat": 4,
 "nbformat_minor": 5
}
