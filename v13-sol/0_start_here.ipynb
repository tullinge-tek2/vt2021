{
 "cells": [
  {
   "cell_type": "markdown",
   "id": "three-smooth",
   "metadata": {},
   "source": [
    "# V13 Planering för dagen\n",
    "\n",
    "## 1. Quizzet\n",
    "- Reder ut missförstånd och viktiga koncept\n",
    "- Vi går igenom lösningarna tillsammans.\n",
    "- Nytt quiz (jupyter edition)\n",
    "\n",
    "5 min break\n",
    "\n",
    "## 2. Repetitionsfrågor \n",
    "\n",
    "1. Vilka tre faktorer bestämmer huvudsakligen klimatet på en planet?\n",
    "2. Vad är en termostat?\n",
    "3. Hur kan vi räkna ut hur mycket effekt vi får av en öppen brasa på ett visst avstånd?\n",
    "\n",
    "20-30 min break\n",
    "\n",
    "## 4. Solenergi\n",
    "- a) gör lektionsuppgifter\n",
    "- b) gå tillbaka och gör klart eventuella rester från tidigare veckor\n"
   ]
  }
 ],
 "metadata": {
  "kernelspec": {
   "display_name": "Python 3",
   "language": "python",
   "name": "python3"
  },
  "language_info": {
   "codemirror_mode": {
    "name": "ipython",
    "version": 3
   },
   "file_extension": ".py",
   "mimetype": "text/x-python",
   "name": "python",
   "nbconvert_exporter": "python",
   "pygments_lexer": "ipython3",
   "version": "3.7.3"
  }
 },
 "nbformat": 4,
 "nbformat_minor": 5
}
