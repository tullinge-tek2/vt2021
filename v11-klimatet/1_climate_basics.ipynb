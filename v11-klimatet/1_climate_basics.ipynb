{
 "cells": [
  {
   "cell_type": "markdown",
   "id": "ruled-commodity",
   "metadata": {},
   "source": [
    "# Climate Basics\n",
    "\n",
    "### Vad styr klimatet på jorden?\n",
    "\n",
    "[Video - Climate Basics](https://www.youtube.com/watch?v=aImQdYeSuGc)\n",
    "\n",
    "Reflektionsfrågor\n",
    "- Vilka tre faktorer styr klimatet på jorden i huvuddrag?\n",
    "- Vad betyder det om en planet har hög Albedo?\n",
    "- Vilka naturliga processer sänker koldioxidhalten i luften?\n",
    "- Vad är funktionen av en termostat i hemmet?\n",
    "- Vilka två processer utgör den naturliga termostaten som Jorden har?\n",
    "- Vad är problemet? Varför lyckas inte den naturliga termonstaten reglera temperaturen nu för tiden?\n",
    "\n",
    "För den nyfikne:\n",
    "- Vi har radioaktivt sönderfall i Jordens inre som bidrar med värme. Hur mycket i relation? Läs här: [Earth's internal heat budget](https://en.wikipedia.org/wiki/Earth's_internal_heat_budget)\n"
   ]
  },
  {
   "cell_type": "markdown",
   "id": "controversial-extra",
   "metadata": {},
   "source": [
    "## Hur ser CO2-kurvan faktiskt ut? Kan vi titta på data från någon mätstation?\n",
    "\n",
    "## Mauna Loa Hawaii\n",
    "\n",
    "![](https://thumbs-prod.si-cdn.com/24KeFao_mIigx4gvZJiMHkSOUZ8=/1024x596/https://public-media.si-cdn.com/filer/89/2e/892e1813-aa70-4c6c-9e77-655ece068b1f/img_1377.jpg)\n",
    "![Mauna Loa](https://i0.wp.com/fusion.net/wp-content/uploads/2016/03/Subaru_and_Keck_telescopes_at_sunset.jpg)"
   ]
  },
  {
   "cell_type": "markdown",
   "id": "dying-ending",
   "metadata": {},
   "source": [
    "# Ladda hem data\n",
    "\n",
    "Från [NOAA](https://www.esrl.noaa.gov/gmd/dv/data/index.php?site=MLO&parameter_name=Carbon%2BDioxide&frequency=Discrete)"
   ]
  },
  {
   "cell_type": "code",
   "execution_count": null,
   "id": "funded-offset",
   "metadata": {},
   "outputs": [],
   "source": [
    "import pandas as pd\n",
    "import numpy as np\n",
    "import matplotlib.pyplot as plt"
   ]
  },
  {
   "cell_type": "markdown",
   "id": "later-sphere",
   "metadata": {},
   "source": [
    "## Läsa in data"
   ]
  },
  {
   "cell_type": "code",
   "execution_count": null,
   "id": "continuing-edwards",
   "metadata": {},
   "outputs": [],
   "source": [
    "\n",
    "df = pd.read_csv('data/co2_mlo_surface-flask_1_ccgg_event.txt', header=69)"
   ]
  },
  {
   "cell_type": "markdown",
   "id": "nuclear-disability",
   "metadata": {},
   "source": [
    "## Extrahera kolumn för datum och CO2\n",
    "Datan är en textfil med massa märkliga kolumner och som är formatterad på ett lite jobbigt sätt.\n",
    "\n",
    "Vi får använda ett **regular expression** för att plocka ut det vi är intresserade av i datat.\n",
    "\n",
    "Man kan plocka ut en rad från datat och experimentera i [regexr.com](https://regexr.com/) för att hitta rätt.\n"
   ]
  },
  {
   "cell_type": "code",
   "execution_count": null,
   "id": "documented-accident",
   "metadata": {},
   "outputs": [],
   "source": [
    "s1 = df[:].squeeze()"
   ]
  },
  {
   "cell_type": "code",
   "execution_count": null,
   "id": "sharing-lodge",
   "metadata": {},
   "outputs": [],
   "source": [
    "s2 = s1.str.extract(r'^MLO (\\d\\d\\d\\d \\d\\d \\d\\d).*CCGG\\s+([\\d\\.]+)')"
   ]
  },
  {
   "cell_type": "code",
   "execution_count": null,
   "id": "according-manual",
   "metadata": {},
   "outputs": [],
   "source": [
    "type(s2)\n",
    "\n",
    "s2.columns = [\"Date\", \"CO2\"]"
   ]
  },
  {
   "cell_type": "markdown",
   "id": "subject-delaware",
   "metadata": {},
   "source": [
    "## Konvertera textsträngar till datum och tal"
   ]
  },
  {
   "cell_type": "code",
   "execution_count": null,
   "id": "significant-kazakhstan",
   "metadata": {},
   "outputs": [],
   "source": [
    "s2[\"Date\"] = pd.to_datetime(s2[\"Date\"])\n",
    "s2[\"CO2\"] = pd.to_numeric(s2[\"CO2\"])"
   ]
  },
  {
   "cell_type": "code",
   "execution_count": null,
   "id": "fifty-involvement",
   "metadata": {},
   "outputs": [],
   "source": [
    "s2.dtypes"
   ]
  },
  {
   "cell_type": "markdown",
   "id": "international-laugh",
   "metadata": {},
   "source": [
    "## Plotta grafen och gör den tydlig\n",
    "\n",
    "- Plotta den som vanligt först\n",
    "- Ändra ylim\n",
    "- Förstora fiugren\n",
    "- Testa `.scatter` för datapunkter istället för liner\n",
    "- Ändra storlek och färg så att outliers syns mindre\n",
    "\n",
    "<details>\n",
    "    <summary>Lösning</summary>\n",
    "    \n",
    "fig, ax = plt.subplots()\n",
    "ax.scatter(s2[\"Date\"], s2[\"CO2\"], s=5, c=[[1, 0, 1, 0.2]])\n",
    "ax.set_xlabel(\"Year\")\n",
    "ax.set_ylabel(\"CO2 (ppm)\")\n",
    "ax.set_ylim(300, 450)\n",
    "fig.set_size_inches(24, 12)\n",
    "</details>"
   ]
  },
  {
   "cell_type": "code",
   "execution_count": null,
   "id": "optional-advancement",
   "metadata": {},
   "outputs": [],
   "source": []
  }
 ],
 "metadata": {
  "kernelspec": {
   "display_name": "Python 3",
   "language": "python",
   "name": "python3"
  },
  "language_info": {
   "codemirror_mode": {
    "name": "ipython",
    "version": 3
   },
   "file_extension": ".py",
   "mimetype": "text/x-python",
   "name": "python",
   "nbconvert_exporter": "python",
   "pygments_lexer": "ipython3",
   "version": "3.7.3"
  }
 },
 "nbformat": 4,
 "nbformat_minor": 5
}
