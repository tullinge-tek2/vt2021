{
 "cells": [
  {
   "cell_type": "markdown",
   "id": "entire-hawaiian",
   "metadata": {},
   "source": [
    "# Hur mycket energi får vi från [solen](https://upload.wikimedia.org/wikipedia/commons/thumb/b/b4/The_Sun_by_the_Atmospheric_Imaging_Assembly_of_NASA%27s_Solar_Dynamics_Observatory_-_20100819.jpg/1920px-The_Sun_by_the_Atmospheric_Imaging_Assembly_of_NASA%27s_Solar_Dynamics_Observatory_-_20100819.jpg)?\n",
    "\n",
    "Teori-innehåll\n",
    "- Geometri\n",
    "    - Vad är omkrets av cirkel, area av cirkel, volym av sfär, ytarean av sfär?\n",
    "    - (Dimensionsanalys \"light\")\n",
    "- Solens luminositet. Sprids ut åt alla håll...\n",
    "- Solkonstanten på Jordens och Mars avstånd\n",
    "  - Vad är 1 AU?\n",
    "\n",
    "Länkar\n",
    "- [If moon was only one pixel](https://www.joshworth.com/dev/pixelspace/pixelspace_solarsystem.html)\n",
    "- [Sun](https://en.wikipedia.org/wiki/Sun)\n",
    "- [Solar Constant](https://en.wikipedia.org/wiki/Solar_constant)\n",
    "- [Luminosity](https://en.wikipedia.org/wiki/Luminosity), [Luminositet (svenska)](https://sv.wikipedia.org/wiki/Luminositet)\n"
   ]
  },
  {
   "cell_type": "markdown",
   "id": "light-metropolitan",
   "metadata": {},
   "source": [
    "## Övningar"
   ]
  },
  {
   "cell_type": "markdown",
   "id": "every-eleven",
   "metadata": {},
   "source": [
    "Skriv **en funktion** som räknar ut ytarean av ett klot."
   ]
  },
  {
   "cell_type": "code",
   "execution_count": null,
   "id": "alone-carter",
   "metadata": {},
   "outputs": [],
   "source": []
  },
  {
   "cell_type": "markdown",
   "id": "narrow-castle",
   "metadata": {},
   "source": [
    "Använd funktionen för att räkna ut ytarean av en sfär med radien 1 decimeter, 3 meter, 500 km"
   ]
  },
  {
   "cell_type": "code",
   "execution_count": null,
   "id": "mechanical-module",
   "metadata": {},
   "outputs": [],
   "source": []
  },
  {
   "cell_type": "markdown",
   "id": "arbitrary-bhutan",
   "metadata": {},
   "source": [
    "\n",
    "Om vi har en värmekälla med effekten 500 W, t.ex. ett element, vad kan vi förenklat förvänta oss för effekt per kvadratmeter 4 meter bort? Gör förenklingen att element är en \"punkt\" och att värmen sprids symmetriskt.\n"
   ]
  },
  {
   "cell_type": "code",
   "execution_count": null,
   "id": "computational-keeping",
   "metadata": {},
   "outputs": [],
   "source": []
  },
  {
   "cell_type": "markdown",
   "id": "modular-award",
   "metadata": {},
   "source": [
    "Skriv **en funktion** som tar en effekt och ett avstånd och räknar ut intensiteten på avståndet. Tänk t.ex. strålningen från en stjärna.\n"
   ]
  },
  {
   "cell_type": "code",
   "execution_count": null,
   "id": "signal-medium",
   "metadata": {},
   "outputs": [],
   "source": []
  },
  {
   "cell_type": "markdown",
   "id": "mechanical-roman",
   "metadata": {},
   "source": [
    "Om du står 10 meter bort från en punktvärme som alstrar 1 kW, hur mycket energi hamnar på din kropp?"
   ]
  },
  {
   "cell_type": "code",
   "execution_count": null,
   "id": "warming-approach",
   "metadata": {},
   "outputs": [],
   "source": []
  },
  {
   "cell_type": "markdown",
   "id": "inappropriate-agriculture",
   "metadata": {},
   "source": [
    "Kom på en egen frågeställning.\n",
    "Besvara den."
   ]
  },
  {
   "cell_type": "code",
   "execution_count": null,
   "id": "measured-shanghai",
   "metadata": {},
   "outputs": [],
   "source": []
  }
 ],
 "metadata": {
  "kernelspec": {
   "display_name": "Python 3",
   "language": "python",
   "name": "python3"
  },
  "language_info": {
   "codemirror_mode": {
    "name": "ipython",
    "version": 3
   },
   "file_extension": ".py",
   "mimetype": "text/x-python",
   "name": "python",
   "nbconvert_exporter": "python",
   "pygments_lexer": "ipython3",
   "version": "3.7.3"
  }
 },
 "nbformat": 4,
 "nbformat_minor": 5
}
