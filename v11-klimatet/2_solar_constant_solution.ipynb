{
 "cells": [
  {
   "cell_type": "markdown",
   "id": "brown-assessment",
   "metadata": {},
   "source": [
    "# Hur mycket energi får vi från [solen](https://upload.wikimedia.org/wikipedia/commons/thumb/b/b4/The_Sun_by_the_Atmospheric_Imaging_Assembly_of_NASA%27s_Solar_Dynamics_Observatory_-_20100819.jpg/1920px-The_Sun_by_the_Atmospheric_Imaging_Assembly_of_NASA%27s_Solar_Dynamics_Observatory_-_20100819.jpg)?\n",
    "\n",
    "Teori-innehåll\n",
    "- Geometri\n",
    "    - Vad är omkrets av cirkel, area av cirkel, volym av sfär, ytarean av sfär?\n",
    "    - (Dimensionsanalys \"light\")\n",
    "- Solens luminositet. Sprids ut åt alla håll...\n",
    "- Solkonstanten på Jordens och Mars avstånd\n",
    "  - Vad är 1 AU?\n",
    "\n",
    "Länkar\n",
    "- [If moon was only one pixel](https://www.joshworth.com/dev/pixelspace/pixelspace_solarsystem.html)\n",
    "- [Sun](https://en.wikipedia.org/wiki/Sun)\n",
    "- [Solar Constant](https://en.wikipedia.org/wiki/Solar_constant)\n",
    "- [Luminosity](https://en.wikipedia.org/wiki/Luminosity), [Luminositet (svenska)](https://sv.wikipedia.org/wiki/Luminositet)\n"
   ]
  },
  {
   "cell_type": "markdown",
   "id": "negative-newcastle",
   "metadata": {},
   "source": [
    "## Övningar"
   ]
  },
  {
   "cell_type": "markdown",
   "id": "geological-hungary",
   "metadata": {},
   "source": [
    "Skriv **en funktion** som räknar ut ytarean av ett klot."
   ]
  },
  {
   "cell_type": "code",
   "execution_count": 3,
   "id": "reliable-resistance",
   "metadata": {},
   "outputs": [],
   "source": [
    "import math\n",
    "\n",
    "def surface_area_sphere(r):\n",
    "    return 4 * math.pi * r**2"
   ]
  },
  {
   "cell_type": "markdown",
   "id": "understood-delhi",
   "metadata": {},
   "source": [
    "Använd funktionen för att räkna ut ytarean av en sfär med radien 1 decimeter, 3 meter, 500 km"
   ]
  },
  {
   "cell_type": "code",
   "execution_count": 6,
   "id": "functioning-gnome",
   "metadata": {},
   "outputs": [
    {
     "name": "stdout",
     "output_type": "stream",
     "text": [
      "0.13 m2\n",
      "113.1 m2\n",
      "3141592653589.79 m2\n"
     ]
    }
   ],
   "source": [
    "print(f\"{round(surface_area_sphere(0.1), 2)} m2\")\n",
    "print(f\"{round(surface_area_sphere(3), 2)} m2\")\n",
    "print(f\"{round(surface_area_sphere(500000), 2)} m2\")"
   ]
  },
  {
   "cell_type": "markdown",
   "id": "frozen-architect",
   "metadata": {},
   "source": [
    "\n",
    "Om vi har en värmekälla med effekten 500 W, t.ex. ett element, vad kan vi förenklat förvänta oss för effekt per kvadratmeter 4 meter bort? Gör förenklingen att element är en \"punkt\" och att värmen sprids symmetriskt.\n"
   ]
  },
  {
   "cell_type": "code",
   "execution_count": 12,
   "id": "occupational-costa",
   "metadata": {},
   "outputs": [
    {
     "name": "stdout",
     "output_type": "stream",
     "text": [
      "2.49 W/m2\n"
     ]
    }
   ],
   "source": [
    "print(f\"{round(500 / surface_area_sphere(4), 2)} W/m2\")"
   ]
  },
  {
   "cell_type": "markdown",
   "id": "indirect-string",
   "metadata": {},
   "source": [
    "Skriv **en funktion** som tar en effekt och ett avstånd och räknar ut intensiteten på avståndet. Tänk t.ex. strålningen från en stjärna.\n"
   ]
  },
  {
   "cell_type": "code",
   "execution_count": 1,
   "id": "arbitrary-heater",
   "metadata": {},
   "outputs": [],
   "source": [
    "def power_intensity(p, r):\n",
    "    return p / surface_area_sphere(r)\n"
   ]
  },
  {
   "cell_type": "markdown",
   "id": "together-kuwait",
   "metadata": {},
   "source": [
    "Om du står 10 meter bort från en punktvärme som alstrar 1 kW, hur mycket energi hamnar på din kropp?"
   ]
  },
  {
   "cell_type": "code",
   "execution_count": 5,
   "id": "extraordinary-catering",
   "metadata": {},
   "outputs": [
    {
     "name": "stdout",
     "output_type": "stream",
     "text": [
      "0.8 W/m2\n"
     ]
    }
   ],
   "source": [
    "print(f\"{round(power_intensity(1000, 10), 2)} W/m2\")"
   ]
  },
  {
   "cell_type": "markdown",
   "id": "pediatric-helen",
   "metadata": {},
   "source": [
    "Kom på en egen frågeställning.\n",
    "Besvara den."
   ]
  },
  {
   "cell_type": "code",
   "execution_count": null,
   "id": "nutritional-ceiling",
   "metadata": {},
   "outputs": [],
   "source": []
  }
 ],
 "metadata": {
  "kernelspec": {
   "display_name": "Python 3",
   "language": "python",
   "name": "python3"
  },
  "language_info": {
   "codemirror_mode": {
    "name": "ipython",
    "version": 3
   },
   "file_extension": ".py",
   "mimetype": "text/x-python",
   "name": "python",
   "nbconvert_exporter": "python",
   "pygments_lexer": "ipython3",
   "version": "3.7.3"
  }
 },
 "nbformat": 4,
 "nbformat_minor": 5
}
