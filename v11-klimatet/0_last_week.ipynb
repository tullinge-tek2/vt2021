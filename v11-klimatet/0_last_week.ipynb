{
 "cells": [
  {
   "cell_type": "markdown",
   "id": "separated-damages",
   "metadata": {},
   "source": [
    "# Fortsättning på förra veckan\n",
    "\n",
    "- Hur går man från effekt till energi?\n",
    "- Vad betyder <mark>ackumulerad</mark>?\n",
    "\n",
    "### Numpy-funktioner att lära sig\n",
    "- `arange(...)`\n",
    "- `cumsum()`\n"
   ]
  },
  {
   "cell_type": "markdown",
   "id": "intense-school",
   "metadata": {},
   "source": [
    "## Först: importera numpy och matplotlib\n",
    "\n",
    "<details>\n",
    "    <summary>Försök själv först, klicka här om du behöver hjälp</summary>\n",
    "    \n",
    "    import numpy as np\n",
    "    import matplotlib.pyplot as plt\n",
    "</details>\n"
   ]
  },
  {
   "cell_type": "code",
   "execution_count": null,
   "id": "stunning-botswana",
   "metadata": {},
   "outputs": [],
   "source": []
  },
  {
   "cell_type": "markdown",
   "id": "lucky-dairy",
   "metadata": {},
   "source": [
    "### Övning 1\n",
    "\n",
    "- Skapa en numpy-array `y` med lite olika värden\n",
    "- Plotta grafen med matplotlib. Använd numpy-funktionen `arange` för att skapa x-värdena\n",
    "- Lägg till legends om du hinner\n"
   ]
  },
  {
   "cell_type": "code",
   "execution_count": null,
   "id": "sublime-patrick",
   "metadata": {},
   "outputs": [],
   "source": []
  },
  {
   "cell_type": "markdown",
   "id": "smart-worcester",
   "metadata": {},
   "source": [
    "### Övning 2\n",
    "- Skapa en numpy-array `z` med de ackumulerade värdena (dvs. integrera!). Använd numpy-array-metoden `cumsum` för detta.\n",
    "- Skapa en ny plot med båda `y` och `z` så att du kan jämföra dem. De bör ha samma x-axel. "
   ]
  },
  {
   "cell_type": "code",
   "execution_count": null,
   "id": "palestinian-protein",
   "metadata": {},
   "outputs": [],
   "source": []
  }
 ],
 "metadata": {
  "kernelspec": {
   "display_name": "Python 3",
   "language": "python",
   "name": "python3"
  },
  "language_info": {
   "codemirror_mode": {
    "name": "ipython",
    "version": 3
   },
   "file_extension": ".py",
   "mimetype": "text/x-python",
   "name": "python",
   "nbconvert_exporter": "python",
   "pygments_lexer": "ipython3",
   "version": "3.7.3"
  }
 },
 "nbformat": 4,
 "nbformat_minor": 5
}
